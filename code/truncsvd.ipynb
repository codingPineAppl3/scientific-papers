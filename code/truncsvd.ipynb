{
 "cells": [
  {
   "cell_type": "markdown",
   "id": "HwUBsNnqUQtL",
   "metadata": {
    "id": "HwUBsNnqUQtL"
   },
   "source": [
    "**Prepare Data process**"
   ]
  },
  {
   "cell_type": "code",
   "execution_count": null,
   "id": "OUQhXWWNURg_",
   "metadata": {
    "colab": {
     "base_uri": "https://localhost:8080/"
    },
    "executionInfo": {
     "elapsed": 2197,
     "status": "ok",
     "timestamp": 1656538525295,
     "user": {
      "displayName": "Xiaomin Jin",
      "userId": "12555100211776147364"
     },
     "user_tz": -120
    },
    "id": "OUQhXWWNURg_",
    "outputId": "5da3f623-0988-4778-e9df-91d6849a60fa"
   },
   "outputs": [],
   "source": [
    "#from google.colab import drive\n",
    "#drive.mount('/content/drive')"
   ]
  },
  {
   "cell_type": "code",
   "execution_count": null,
   "id": "22154ce6",
   "metadata": {
    "executionInfo": {
     "elapsed": 2,
     "status": "ok",
     "timestamp": 1656538525295,
     "user": {
      "displayName": "Xiaomin Jin",
      "userId": "12555100211776147364"
     },
     "user_tz": -120
    },
    "id": "22154ce6"
   },
   "outputs": [],
   "source": [
    "import sys\n",
    "import pandas as pd\n",
    "import numpy as np\n",
    "import matplotlib.pyplot as plt\n",
    "%matplotlib inline"
   ]
  },
  {
   "cell_type": "code",
   "execution_count": null,
   "id": "98824a65",
   "metadata": {
    "executionInfo": {
     "elapsed": 1049,
     "status": "ok",
     "timestamp": 1656538526342,
     "user": {
      "displayName": "Xiaomin Jin",
      "userId": "12555100211776147364"
     },
     "user_tz": -120
    },
    "id": "98824a65"
   },
   "outputs": [],
   "source": [
    "# Read downloaded file \n",
    "data = pd.read_csv('ratings_Electronics.csv')"
   ]
  },
  {
   "cell_type": "markdown",
   "id": "vEGf056OUcEd",
   "metadata": {
    "id": "vEGf056OUcEd"
   },
   "source": [
    "# New Section"
   ]
  },
  {
   "cell_type": "code",
   "execution_count": null,
   "id": "c08aacf3",
   "metadata": {
    "colab": {
     "base_uri": "https://localhost:8080/",
     "height": 206
    },
    "executionInfo": {
     "elapsed": 6,
     "status": "ok",
     "timestamp": 1656538526342,
     "user": {
      "displayName": "Xiaomin Jin",
      "userId": "12555100211776147364"
     },
     "user_tz": -120
    },
    "id": "c08aacf3",
    "outputId": "fa9368c1-ff1e-4404-ff2d-0b4288444942"
   },
   "outputs": [],
   "source": [
    "data.head()"
   ]
  },
  {
   "cell_type": "code",
   "execution_count": null,
   "id": "bc133df7",
   "metadata": {
    "colab": {
     "base_uri": "https://localhost:8080/"
    },
    "executionInfo": {
     "elapsed": 5,
     "status": "ok",
     "timestamp": 1656538526342,
     "user": {
      "displayName": "Xiaomin Jin",
      "userId": "12555100211776147364"
     },
     "user_tz": -120
    },
    "id": "bc133df7",
    "outputId": "0fac52e1-da2b-42f7-e4cb-c05bfe97d0cd"
   },
   "outputs": [],
   "source": [
    "data.shape"
   ]
  },
  {
   "cell_type": "code",
   "execution_count": null,
   "id": "84355ada",
   "metadata": {
    "colab": {
     "base_uri": "https://localhost:8080/"
    },
    "executionInfo": {
     "elapsed": 3,
     "status": "ok",
     "timestamp": 1656538526342,
     "user": {
      "displayName": "Xiaomin Jin",
      "userId": "12555100211776147364"
     },
     "user_tz": -120
    },
    "id": "84355ada",
    "outputId": "f41dbe45-10be-4cd9-c4a2-3ee4afe38de6"
   },
   "outputs": [],
   "source": [
    "data.isnull().sum() # check if any null values in data"
   ]
  },
  {
   "cell_type": "code",
   "execution_count": null,
   "id": "1ea6f3dd",
   "metadata": {
    "colab": {
     "base_uri": "https://localhost:8080/"
    },
    "executionInfo": {
     "elapsed": 5,
     "status": "ok",
     "timestamp": 1656538526741,
     "user": {
      "displayName": "Xiaomin Jin",
      "userId": "12555100211776147364"
     },
     "user_tz": -120
    },
    "id": "1ea6f3dd",
    "outputId": "cbe193cb-08a6-4329-828e-f648840d4865"
   },
   "outputs": [],
   "source": [
    "data.info()"
   ]
  },
  {
   "cell_type": "code",
   "execution_count": null,
   "id": "ea0e54b9",
   "metadata": {
    "colab": {
     "base_uri": "https://localhost:8080/",
     "height": 300
    },
    "executionInfo": {
     "elapsed": 3,
     "status": "ok",
     "timestamp": 1656538526741,
     "user": {
      "displayName": "Xiaomin Jin",
      "userId": "12555100211776147364"
     },
     "user_tz": -120
    },
    "id": "ea0e54b9",
    "outputId": "ed7a9f20-593f-4079-f480-8224a9c97315"
   },
   "outputs": [],
   "source": [
    "data.describe()"
   ]
  },
  {
   "cell_type": "code",
   "execution_count": null,
   "id": "3d79d3ff",
   "metadata": {
    "colab": {
     "base_uri": "https://localhost:8080/",
     "height": 331
    },
    "executionInfo": {
     "elapsed": 16657,
     "status": "ok",
     "timestamp": 1656538543395,
     "user": {
      "displayName": "Xiaomin Jin",
      "userId": "12555100211776147364"
     },
     "user_tz": -120
    },
    "id": "3d79d3ff",
    "outputId": "aeb3c250-8695-40eb-aafd-c67546c0868b"
   },
   "outputs": [],
   "source": [
    "#As data is huge so we take a fraction of the data so that we can create a user item matrix. \n",
    "\n",
    "data1 = data.head(100000)\n",
    "ratings_utility_matrix = data1.pivot_table(values='Rating', index='UserId', columns='ItemId')\n",
    "ratings_utility_matrix.head()"
   ]
  },
  {
   "cell_type": "code",
   "execution_count": null,
   "id": "7de49962",
   "metadata": {
    "colab": {
     "base_uri": "https://localhost:8080/"
    },
    "executionInfo": {
     "elapsed": 3,
     "status": "ok",
     "timestamp": 1656538543395,
     "user": {
      "displayName": "Xiaomin Jin",
      "userId": "12555100211776147364"
     },
     "user_tz": -120
    },
    "id": "7de49962",
    "outputId": "34e0f1d1-0cc9-44b7-dd9a-8f879b785cfa"
   },
   "outputs": [],
   "source": [
    "ratings_utility_matrix.shape"
   ]
  },
  {
   "cell_type": "code",
   "execution_count": null,
   "id": "16e2935f",
   "metadata": {
    "executionInfo": {
     "elapsed": 1670,
     "status": "ok",
     "timestamp": 1656538545063,
     "user": {
      "displayName": "Xiaomin Jin",
      "userId": "12555100211776147364"
     },
     "user_tz": -120
    },
    "id": "16e2935f"
   },
   "outputs": [],
   "source": [
    "ratings_utility_matrix.fillna(0, inplace=True)"
   ]
  },
  {
   "cell_type": "code",
   "execution_count": null,
   "id": "09520854",
   "metadata": {
    "executionInfo": {
     "elapsed": 4,
     "status": "ok",
     "timestamp": 1656538545063,
     "user": {
      "displayName": "Xiaomin Jin",
      "userId": "12555100211776147364"
     },
     "user_tz": -120
    },
    "id": "09520854"
   },
   "outputs": [],
   "source": [
    "# Transpose the matrix\n",
    "X = ratings_utility_matrix.T"
   ]
  },
  {
   "cell_type": "code",
   "execution_count": null,
   "id": "4a382b78",
   "metadata": {
    "colab": {
     "base_uri": "https://localhost:8080/",
     "height": 331
    },
    "executionInfo": {
     "elapsed": 5,
     "status": "ok",
     "timestamp": 1656538545064,
     "user": {
      "displayName": "Xiaomin Jin",
      "userId": "12555100211776147364"
     },
     "user_tz": -120
    },
    "id": "4a382b78",
    "outputId": "78fd8c60-c5cb-42a5-e169-ee4d78d89f42"
   },
   "outputs": [],
   "source": [
    "X.head()"
   ]
  },
  {
   "cell_type": "code",
   "execution_count": null,
   "id": "8a72a500",
   "metadata": {
    "colab": {
     "base_uri": "https://localhost:8080/"
    },
    "executionInfo": {
     "elapsed": 4,
     "status": "ok",
     "timestamp": 1656538545064,
     "user": {
      "displayName": "Xiaomin Jin",
      "userId": "12555100211776147364"
     },
     "user_tz": -120
    },
    "id": "8a72a500",
    "outputId": "806f3098-455e-4d71-dd70-811139a8d67f"
   },
   "outputs": [],
   "source": [
    "X.shape"
   ]
  },
  {
   "cell_type": "code",
   "execution_count": null,
   "id": "160d29e7",
   "metadata": {
    "executionInfo": {
     "elapsed": 555,
     "status": "ok",
     "timestamp": 1656538545616,
     "user": {
      "displayName": "Xiaomin Jin",
      "userId": "12555100211776147364"
     },
     "user_tz": -120
    },
    "id": "160d29e7"
   },
   "outputs": [],
   "source": [
    "from sklearn.decomposition import TruncatedSVD"
   ]
  },
  {
   "cell_type": "code",
   "execution_count": null,
   "id": "eca22601",
   "metadata": {
    "colab": {
     "base_uri": "https://localhost:8080/"
    },
    "executionInfo": {
     "elapsed": 53748,
     "status": "ok",
     "timestamp": 1656538599363,
     "user": {
      "displayName": "Xiaomin Jin",
      "userId": "12555100211776147364"
     },
     "user_tz": -120
    },
    "id": "eca22601",
    "outputId": "75eedb80-cce6-4f0e-86e1-4bbdac6db63b"
   },
   "outputs": [],
   "source": [
    "#n_component is desired dimension of output data, here means how many features\n",
    "SVD = TruncatedSVD(n_components=10) \n",
    "decomposed_matrix = SVD.fit_transform(X)\n",
    "decomposed_matrix"
   ]
  },
  {
   "cell_type": "code",
   "execution_count": null,
   "id": "083ea673",
   "metadata": {
    "colab": {
     "base_uri": "https://localhost:8080/"
    },
    "executionInfo": {
     "elapsed": 3,
     "status": "ok",
     "timestamp": 1656538599364,
     "user": {
      "displayName": "Xiaomin Jin",
      "userId": "12555100211776147364"
     },
     "user_tz": -120
    },
    "id": "083ea673",
    "outputId": "a31abe26-cce6-43e6-ec4e-f8ddac4f2ea5"
   },
   "outputs": [],
   "source": [
    "decomposed_matrix.shape"
   ]
  },
  {
   "cell_type": "code",
   "execution_count": null,
   "id": "723e1ffa",
   "metadata": {
    "colab": {
     "base_uri": "https://localhost:8080/"
    },
    "executionInfo": {
     "elapsed": 712,
     "status": "ok",
     "timestamp": 1656538600074,
     "user": {
      "displayName": "Xiaomin Jin",
      "userId": "12555100211776147364"
     },
     "user_tz": -120
    },
    "id": "723e1ffa",
    "outputId": "cbd4b061-a3f4-4029-a71e-750e5ce4f78d"
   },
   "outputs": [],
   "source": [
    "#corrcoef() returns the correlation matrix with correlation coefficient in it. \n",
    "\n",
    "correlation_matrix = np.corrcoef(decomposed_matrix)\n",
    "correlation_matrix"
   ]
  },
  {
   "cell_type": "code",
   "execution_count": null,
   "id": "5e027daa",
   "metadata": {
    "colab": {
     "base_uri": "https://localhost:8080/"
    },
    "executionInfo": {
     "elapsed": 14,
     "status": "ok",
     "timestamp": 1656538600074,
     "user": {
      "displayName": "Xiaomin Jin",
      "userId": "12555100211776147364"
     },
     "user_tz": -120
    },
    "id": "5e027daa",
    "outputId": "6181a464-2ba9-4cc6-d197-01b82747964d"
   },
   "outputs": [],
   "source": [
    "correlation_matrix.shape"
   ]
  },
  {
   "cell_type": "code",
   "execution_count": null,
   "id": "c7488a16",
   "metadata": {
    "colab": {
     "base_uri": "https://localhost:8080/"
    },
    "executionInfo": {
     "elapsed": 13,
     "status": "ok",
     "timestamp": 1656538600074,
     "user": {
      "displayName": "Xiaomin Jin",
      "userId": "12555100211776147364"
     },
     "user_tz": -120
    },
    "id": "c7488a16",
    "outputId": "5a389e35-1616-4d8c-d5ed-271f2cc4348f"
   },
   "outputs": [],
   "source": [
    "#choose a random index for ItemId was purchased by a User\n",
    "import random\n",
    "i = random.randint(0,correlation_matrix.shape[0])\n",
    "i"
   ]
  },
  {
   "cell_type": "code",
   "execution_count": null,
   "id": "e1410c94",
   "metadata": {
    "colab": {
     "base_uri": "https://localhost:8080/",
     "height": 35
    },
    "executionInfo": {
     "elapsed": 12,
     "status": "ok",
     "timestamp": 1656538600075,
     "user": {
      "displayName": "Xiaomin Jin",
      "userId": "12555100211776147364"
     },
     "user_tz": -120
    },
    "id": "e1410c94",
    "outputId": "8a6732be-7d0e-4fd7-b32d-939884d48e14"
   },
   "outputs": [],
   "source": [
    "#The Item ID the User purchased before\n",
    "Item_ID = X.index[i]\n",
    "Item_ID"
   ]
  },
  {
   "cell_type": "code",
   "execution_count": null,
   "id": "68341477",
   "metadata": {
    "colab": {
     "base_uri": "https://localhost:8080/"
    },
    "executionInfo": {
     "elapsed": 11,
     "status": "ok",
     "timestamp": 1656538600075,
     "user": {
      "displayName": "Xiaomin Jin",
      "userId": "12555100211776147364"
     },
     "user_tz": -120
    },
    "id": "68341477",
    "outputId": "8246d346-fc57-4ef4-8c56-91c939864a19"
   },
   "outputs": [],
   "source": [
    "#All the correlation of those products which are correlated to the product that user purchase\n",
    "correlation_ItemId = correlation_matrix[i]\n",
    "\n",
    "correlation_ItemId"
   ]
  },
  {
   "cell_type": "code",
   "execution_count": null,
   "id": "2f2f1c74",
   "metadata": {
    "colab": {
     "base_uri": "https://localhost:8080/"
    },
    "executionInfo": {
     "elapsed": 10,
     "status": "ok",
     "timestamp": 1656538600075,
     "user": {
      "displayName": "Xiaomin Jin",
      "userId": "12555100211776147364"
     },
     "user_tz": -120
    },
    "id": "2f2f1c74",
    "outputId": "ae51c0a6-e7b8-4dec-8887-dd47a9dcb072"
   },
   "outputs": [],
   "source": [
    "#Top products to be displayed by the recommendation system to the above customer based on the purchase history of other cutomers on website\n",
    "recommended_items = X.index[correlation_ItemId > 0.90] \n",
    "recommended_items = list(recommended_items)\n",
    "\n",
    "#Top 10 Products recommended to the user based on the purchase done by user\n",
    "recommended_items[0:10]"
   ]
  },
  {
   "cell_type": "code",
   "execution_count": null,
   "id": "c17a0b2e",
   "metadata": {
    "executionInfo": {
     "elapsed": 9,
     "status": "ok",
     "timestamp": 1656538600075,
     "user": {
      "displayName": "Xiaomin Jin",
      "userId": "12555100211776147364"
     },
     "user_tz": -120
    },
    "id": "c17a0b2e"
   },
   "outputs": [],
   "source": []
  }
 ],
 "metadata": {
  "colab": {
   "name": "truncsvd.ipynb",
   "provenance": []
  },
  "kernelspec": {
   "display_name": "Python 3 (ipykernel)",
   "language": "python",
   "name": "python3"
  },
  "language_info": {
   "codemirror_mode": {
    "name": "ipython",
    "version": 3
   },
   "file_extension": ".py",
   "mimetype": "text/x-python",
   "name": "python",
   "nbconvert_exporter": "python",
   "pygments_lexer": "ipython3",
   "version": "3.9.7"
  }
 },
 "nbformat": 4,
 "nbformat_minor": 5
}
